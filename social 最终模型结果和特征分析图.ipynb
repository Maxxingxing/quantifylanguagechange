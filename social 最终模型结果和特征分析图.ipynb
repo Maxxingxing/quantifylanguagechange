{
 "cells": [
  {
   "cell_type": "code",
   "execution_count": 33,
   "metadata": {},
   "outputs": [],
   "source": [
    "import numpy as np\n",
    "from sklearn import linear_model,datasets,metrics\n",
    "import matplotlib.pyplot as plt\n",
    "import pandas as pd\n",
    "from sklearn.decomposition import PCA\n",
    "from sklearn.linear_model import ElasticNet\n",
    "from sklearn.model_selection import cross_val_score \n",
    "from sklearn.model_selection import train_test_split\n",
    "from sklearn.linear_model import  LinearRegression\n",
    "from pandas import DataFrame\n",
    "from sklearn import metrics \n",
    "from sklearn.linear_model import LogisticRegression \n",
    "from sklearn.metrics import confusion_matrix\n",
    "from sklearn.svm import SVC\n",
    "%matplotlib inline"
   ]
  },
  {
   "cell_type": "code",
   "execution_count": 34,
   "metadata": {},
   "outputs": [],
   "source": [
    "def model2(source,target):\n",
    "    #1.pca  parameter selection\n",
    "    df=pd.read_csv(source)\n",
    "    #df.drop(['Unnamed: 0','Unnamed: 0.1'], axis=1,inplace=True)\n",
    "    df.drop(['Unnamed: 0'], axis=1,inplace=True)\n",
    "    #X = df.iloc[:,0:-23]#只用于pos\n",
    "    X = df.iloc[:,0:-1]\n",
    "    print(X.head())\n",
    "    y = df.ix[:,-1]\n",
    "    #Fitting the PCA algorithm with our Data\n",
    "    pca = PCA().fit(X)\n",
    "    #Plotting the Cumulative Summation of the Explained Variance\n",
    "    plt.figure()\n",
    "    ratio=pca.explained_variance_ratio_\n",
    "    plt.plot([i for i in range(X.shape[1])],\n",
    "             [np.sum(ratio[:i+1]) for i in range(X.shape[1])])\n",
    "    #plt.plot(np.cumsum(pca.explained_variance_ratio_))\n",
    "    plt.xticks(np.arange(X.shape[1],step=5000))\n",
    "    plt.yticks(np.arange(0,1.01,0.05))\n",
    "    plt.xlabel('Number of Components')\n",
    "    plt.ylabel('Variance (%)') #for each component\n",
    "    #plt.title('Pulsar Dataset Explained Variance')\n",
    "    plt.grid()\n",
    "    plt.show()\n",
    "    \n",
    "    #2.show pricipal components\n",
    "    pca=PCA(n_components=0.95)\n",
    "    pca.fit(X,y)\n",
    "    ratio=pca.explained_variance_ratio_\n",
    "    print(\"pca.components_\",pca.components_.shape)\n",
    "    #print(\"pca.components_\",pca.components_)\n",
    "    print(\"pca_var_ratio\",pca.explained_variance_ratio_.shape)\n",
    "    n_pcs= pca.components_.shape[0]\n",
    "    most_important = [np.abs(pca.components_[i]).argmax() for i in range(n_pcs)]\n",
    "    initial_feature_names = X.columns\n",
    "    most_important_names = [initial_feature_names[most_important[i]] for i in range(n_pcs)]\n",
    "    #dic = {'PC{}'.format(i+1): most_important_names[i] for i in range(n_pcs)}\n",
    "    dic = {'{}'.format(i+1): most_important_names[i] for i in range(n_pcs)}\n",
    "    df_n = pd.DataFrame(sorted(dic.items()))\n",
    "    print(df_n)\n",
    "    df_n.columns=['rank','feature']\n",
    "    df_n['rank']=df_n['rank'].astype('int')\n",
    "    print(df_n.columns)\n",
    "    \n",
    "    df_n = df_n.sort_values(by=\"rank\",ascending=True)\n",
    "    print(df_n[0:30])\n",
    "    \n",
    "    #3.pca reduce dimension\n",
    "    #pca=PCA(n_components=  )\n",
    "    reduced_X = pca.fit_transform(X)\n",
    "    print(X.shape[1])\n",
    "    print(reduced_X.shape[1])\n",
    "    train_X,test_X,train_y,test_y=train_test_split(reduced_X,y,test_size=0.25,random_state=0)\n",
    "    print(train_y.dtypes)\n",
    "\n",
    "    #4.model fit and result\n",
    "    LR = ElasticNet(random_state=0)\n",
    "    #LR = SVC(kernel='rbf', probability=True) \n",
    "    #LR=LogisticRegression(penalty='l2')    \n",
    "    ### 对训练数据进行拟合训练\n",
    "    LR.fit(train_X, train_y)\n",
    "\n",
    "    ### 输出参数,分别是截距（intercept_）和权重参数(coef_）\n",
    "#     print('LR.intercept:\\n',LR.intercept_)\n",
    "#     print('LR.coef:\\n',LR.coef_)\n",
    "\n",
    "    ### 根据测试数据计算预测值y_predict\n",
    "    train_y_predict=LR.predict(train_X).astype('int64')\n",
    "    test_y_predict=LR.predict(test_X).astype('int64')\n",
    "#     train_y=train_y.astype('str')\n",
    "#     test_y=test_y.astype('str')\n",
    "\n",
    "    ###保存预测值和实际值\n",
    "    result=DataFrame({\"test_y\":test_y.tolist(),\"test_y_predict\":test_y_predict.tolist()},columns=[\"test_y\",\"test_y_predict\"])\n",
    "    result.to_csv(target)\n",
    "\n",
    "#     R2=cross_val_score(LR, train_X,train_y, cv=10, scoring='r2').mean()\n",
    "#     MSE=cross_val_score(LR, train_X,train_y, cv=10, scoring='neg_mean_squared_error').mean()\n",
    "#     RMSE=np.sqrt(MSE)\n",
    "#     print(R2)\n",
    "#     print(MSE)\n",
    "#     print(RMSE)\n",
    "\n",
    "    ### 计算确定系数R^2,取值范[0,1],值越大,说明模拟的拟合度越好，对模型的解释能力越强\n",
    "    print('train R^2:\\n',LR.score(train_X,train_y))\n",
    "    ### MSE为均方误差，用测试数据来验证，MSE为预测数据和测试数据误差平方和的均值\n",
    "    print (\"train MSE:\",metrics.mean_squared_error(train_y,train_y_predict))\n",
    "    ### RMSE为均方根误差\n",
    "    print('train RMSE:',np.sqrt(metrics.mean_squared_error(train_y,train_y_predict)))\n",
    "\n",
    "    ### 计算确定系数R^2,取值范[0,1],值越大,说明模拟的拟合度越好，对模型的解释能力越强\n",
    "    print('test R^2:\\n',LR.score(test_X,test_y))\n",
    "    ### MSE为均方误差，用测试数据来验证，MSE为预测数据和测试数据误差平方和的均值\n",
    "    print (\"test MSE:\",metrics.mean_squared_error(test_y,test_y_predict))\n",
    "    ### RMSE为均方根误差\n",
    "    print('test RMSE:',np.sqrt(metrics.mean_squared_error(test_y,test_y_predict)))\n",
    "\n",
    "\n",
    "    print('test_y_predict:\\n',test_y_predict[0:5])    ### 输出预测值前5行\n",
    "    print('test_y:\\n',test_y[0:5])          ### 输出测试值前5行\n",
    "    \n",
    "    #从sklearn.metrics导入classification_report\n",
    "    from sklearn.metrics import classification_report\n",
    "\n",
    "    #使用逻辑斯蒂回归模型自带的评分函数score获得模型在测试集上的准确性结果\n",
    "    print('Accuracy of LR Classifier:',LR.score(test_X,test_y))\n",
    "    #使用classification_report模块获得逻辑斯蒂模型其他三个指标的结果（召回率，精确率，调和平均数）\n",
    "    print(classification_report(test_y,test_y_predict,target_names=['1','2','3']))\n",
    "    #print(metrics.precision_score(test_y,test_y_predict))\n",
    "    print(confusion_matrix(test_y,test_y_predict))\n",
    "    \n",
    "    \n",
    "    \n",
    "#     #precision = metrics.precision_score(test_y,test_y_predict)\n",
    "#     precision = metrics.precision_score(test_y[0:5],test_y_predict[0:5])\n",
    "#     recall = metrics.recall_score(test_y[0:5],test_y_predict[0:5])    \n",
    "#     print('precision: %.2f%%, recall: %.2f%%' % (100 * precision, 100 * recall))    \n",
    "#     #accuracy = metrics.accuracy_score(test_y, test_y_predict)    \n",
    "#     #print('accuracy: %.2f%%' % (100 * accuracy))\n",
    "    \n",
    "    \n",
    "#     plt.scatter(test_y,test_y_predict,c='b',alpha=0.5,marker='*')   \n",
    "#     plt.xlabel('test_y')\n",
    "#     plt.ylabel('test_y_predict')\n",
    "#     plt.plot([test_y.min(),test_y.max()],[test_y.min(),test_y.max()],'k--',lw=4)   ### 画出y=x这条线\n",
    "#     plt.show()\n",
    "\n",
    "\n",
    "\n"
   ]
  },
  {
   "cell_type": "code",
   "execution_count": 35,
   "metadata": {},
   "outputs": [
    {
     "name": "stdout",
     "output_type": "stream",
     "text": [
      "   choiceShe.NN  von.VBP  alt.VBZ  day/date.VB  PRODUCTS.NNP  ten,000.VBP  \\\n",
      "0           0.0      0.0      0.0          0.0           0.0          0.0   \n",
      "1           0.0      0.0      0.0          0.0           0.0          0.0   \n",
      "2           0.0      0.0      0.0          0.0           0.0          0.0   \n",
      "3           0.0      0.0      0.0          0.0           0.0          0.0   \n",
      "4           0.0      0.0      0.0          0.0           0.0          0.0   \n",
      "\n",
      "   lynntravis.NN  cross.NNS  Fontu.NNP  lifecore.VB   ...     memo.JJ  \\\n",
      "0            0.0        0.0        0.0          0.0   ...         0.0   \n",
      "1            0.0        0.0        0.0          0.0   ...         0.0   \n",
      "2            0.0        0.0        0.0          0.0   ...         0.0   \n",
      "3            0.0        0.0        0.0          0.0   ...         0.0   \n",
      "4            0.0        0.0        0.0          0.0   ...         0.0   \n",
      "\n",
      "   HEALTH-RELATED.NNP  successo.VBP  disorder.JJ  heat-emitting.JJ  \\\n",
      "0                 0.0           0.0          0.0               0.0   \n",
      "1                 0.0           0.0          0.0               0.0   \n",
      "2                 0.0           0.0          0.0               0.0   \n",
      "3                 0.0           0.0          0.0               0.0   \n",
      "4                 0.0           0.0          0.0               0.0   \n",
      "\n",
      "   showand.NN  pre-health.NN  bilgi.FW  gluteals.NNS  200x.CD  \n",
      "0         0.0            0.0       0.0           0.0      0.0  \n",
      "1         0.0            0.0       0.0           0.0      0.0  \n",
      "2         0.0            0.0       0.0           0.0      0.0  \n",
      "3         0.0            0.0       0.0           0.0      0.0  \n",
      "4         0.0            0.0       0.0           0.0      0.0  \n",
      "\n",
      "[5 rows x 257716 columns]\n"
     ]
    },
    {
     "name": "stderr",
     "output_type": "stream",
     "text": [
      "D:\\anaconda\\lib\\site-packages\\ipykernel_launcher.py:9: DeprecationWarning: \n",
      ".ix is deprecated. Please use\n",
      ".loc for label based indexing or\n",
      ".iloc for positional indexing\n",
      "\n",
      "See the documentation here:\n",
      "http://pandas.pydata.org/pandas-docs/stable/indexing.html#ix-indexer-is-deprecated\n",
      "  if __name__ == '__main__':\n"
     ]
    },
    {
     "data": {
      "image/png": "[encoded data removed]",
      "text/plain": [
       "<Figure size 432x288 with 1 Axes>"
      ]
     },
     "metadata": {
      "needs_background": "light"
     },
     "output_type": "display_data"
    },
    {
     "name": "stdout",
     "output_type": "stream",
     "text": [
      "pca.components_ (463, 257716)\n",
      "pca_var_ratio (463,)\n",
      "       0              1\n",
      "0      1        my.PRP$\n",
      "1     10       Life.NNP\n",
      "2    100      honest.VB\n",
      "3    101       help.NNS\n",
      "4    102         IS.NNP\n",
      "5    103         IS.NNP\n",
      "6    104         IS.NNP\n",
      "7    105          im.NN\n",
      "8    106         IS.NNP\n",
      "9    107         dnt.JJ\n",
      "10   108         IS.NNP\n",
      "11   109      social.JJ\n",
      "12    11       Life.NNP\n",
      "13   110        UAE.NNP\n",
      "14   111     against.IN\n",
      "15   112     elegant.NN\n",
      "16   113      honest.VB\n",
      "17   114         Hi.NNP\n",
      "18   115       help.NNS\n",
      "19   116         dnt.JJ\n",
      "20   117         IS.NNP\n",
      "21   118       Dream.NN\n",
      "22   119       Dream.NN\n",
      "23    12       Life.NNP\n",
      "24   120  friendship.NN\n",
      "25   121       Dream.NN\n",
      "26   122      waste.VBG\n",
      "27   123  Lawerence.NNP\n",
      "28   124       Make.NNP\n",
      "29   125         IS.NNP\n",
      "..   ...            ...\n",
      "433   72      honest.VB\n",
      "434   73         add.VB\n",
      "435   74        true.JJ\n",
      "436   75    require.VBN\n",
      "437   76      block.VBN\n",
      "438   77     exactly.RB\n",
      "439   78        real.JJ\n",
      "440   79         Hi.NNP\n",
      "441    8       Life.NNP\n",
      "442   80        find.VB\n",
      "443   81       Dream.NN\n",
      "444   82      social.JJ\n",
      "445   83       Dream.NN\n",
      "446   84         dnt.JJ\n",
      "447   85  friendship.NN\n",
      "448   86      waste.VBG\n",
      "449   87         IS.NNP\n",
      "450   88  friendship.NN\n",
      "451   89      honest.VB\n",
      "452    9       Life.NNP\n",
      "453   90    network.NNS\n",
      "454   91      waste.VBG\n",
      "455   92           s.NN\n",
      "456   93        mind.NN\n",
      "457   94      Truly.NNP\n",
      "458   95         IS.NNP\n",
      "459   96         IS.NNP\n",
      "460   97         dnt.JJ\n",
      "461   98      honest.VB\n",
      "462   99       Dream.NN\n",
      "\n",
      "[463 rows x 2 columns]\n",
      "Index(['rank', 'feature'], dtype='object')\n",
      "     rank        feature\n",
      "0       1        my.PRP$\n",
      "111     2        my.PRP$\n",
      "222     3        my.PRP$\n",
      "333     4        my.PRP$\n",
      "408     5       his.PRP$\n",
      "419     6        loan.NN\n",
      "430     7        my.PRP$\n",
      "441     8       Life.NNP\n",
      "452     9       Life.NNP\n",
      "1      10       Life.NNP\n",
      "12     11       Life.NNP\n",
      "23     12       Life.NNP\n",
      "34     13         Hi.NNP\n",
      "45     14           u.NN\n",
      "56     15        my.PRP$\n",
      "67     16         Hi.NNP\n",
      "78     17      beauty.NN\n",
      "89     18  friendship.NN\n",
      "100    19         'm.VBP\n",
      "112    20           u.NN\n",
      "123    21  friendship.NN\n",
      "134    22  friendship.NN\n",
      "145    23           u.JJ\n",
      "156    24           u.NN\n",
      "167    25      beauty.NN\n",
      "178    26       poker.NN\n",
      "189    27        find.VB\n",
      "200    28      beauty.NN\n",
      "211    29        find.VB\n",
      "223    30        need.NN\n",
      "257716\n",
      "463\n",
      "int64\n",
      "train R^2:\n",
      " 0.0\n",
      "train MSE: 0.648\n",
      "train RMSE: 0.8049844718999243\n",
      "test R^2:\n",
      " -0.0035445601851853414\n",
      "test MSE: 0.616\n",
      "test RMSE: 0.7848566748139434\n",
      "test_y_predict:\n",
      " [2 2 2 2 2]\n",
      "test_y:\n",
      " 90     3\n",
      "254    3\n",
      "283    3\n",
      "445    3\n",
      "461    2\n",
      "Name: AGE, dtype: int64\n",
      "Accuracy of LR Classifier: -0.0035445601851853414\n",
      "              precision    recall  f1-score   support\n",
      "\n",
      "           1       0.00      0.00      0.00         9\n",
      "           2       0.38      1.00      0.55        48\n",
      "           3       0.00      0.00      0.00        68\n",
      "\n",
      "   micro avg       0.38      0.38      0.38       125\n",
      "   macro avg       0.13      0.33      0.18       125\n",
      "weighted avg       0.15      0.38      0.21       125\n",
      "\n",
      "[[ 0  9  0]\n",
      " [ 0 48  0]\n",
      " [ 0 68  0]]\n"
     ]
    },
    {
     "name": "stderr",
     "output_type": "stream",
     "text": [
      "D:\\anaconda\\lib\\site-packages\\sklearn\\metrics\\classification.py:1143: UndefinedMetricWarning: Precision and F-score are ill-defined and being set to 0.0 in labels with no predicted samples.\n",
      "  'precision', 'predicted', average, warn_for)\n"
     ]
    }
   ],
   "source": [
    "model2(\"pan13-author-profiling-training-corpus-2013-01-09/ti_social_lexical_matrix.csv\",\"social_lexical_result.csv\")"
   ]
  },
  {
   "cell_type": "code",
   "execution_count": 57,
   "metadata": {},
   "outputs": [
    {
     "name": "stdout",
     "output_type": "stream",
     "text": [
      "          )    #         ,        FW        IN       JJS       RBS      PRP$  \\\n",
      "0  0.280332  0.0  0.146619  0.000000  0.138137  0.188826  0.286825  0.149077   \n",
      "1  0.000000  0.0  0.145507  0.000000  0.137090  0.187394  0.284650  0.147946   \n",
      "2  0.000000  0.0  0.160119  0.000000  0.150857  0.206213  0.000000  0.162804   \n",
      "3  0.235395  0.0  0.123116  0.350057  0.115994  0.158557  0.000000  0.125180   \n",
      "4  0.000000  0.0  0.157862  0.000000  0.148730  0.000000  0.308820  0.160509   \n",
      "\n",
      "        VBN        ``  ...       JJR  WP$  PDT        EX        DT        TO  \\\n",
      "0  0.152673  0.000000  ...  0.184587  0.0  0.0  0.223018  0.139630  0.146457   \n",
      "1  0.151515  0.308790  ...  0.000000  0.0  0.0  0.221327  0.138571  0.145346   \n",
      "2  0.166731  0.000000  ...  0.201583  0.0  0.0  0.243554  0.152487  0.159943   \n",
      "3  0.128199  0.261272  ...  0.154997  0.0  0.0  0.187268  0.117247  0.122980   \n",
      "4  0.164380  0.335010  ...  0.198741  0.0  0.0  0.240120  0.150337  0.157688   \n",
      "\n",
      "    LS     NNPS        MD       WDT  \n",
      "0  0.0  0.00000  0.151246  0.182154  \n",
      "1  0.0  0.00000  0.150099  0.180772  \n",
      "2  0.0  0.00000  0.165173  0.198927  \n",
      "3  0.0  0.29248  0.127001  0.152954  \n",
      "4  0.0  0.00000  0.162844  0.196122  \n",
      "\n",
      "[5 rows x 45 columns]\n"
     ]
    },
    {
     "name": "stderr",
     "output_type": "stream",
     "text": [
      "D:\\anaconda3\\lib\\site-packages\\ipykernel_launcher.py:9: FutureWarning: \n",
      ".ix is deprecated. Please use\n",
      ".loc for label based indexing or\n",
      ".iloc for positional indexing\n",
      "\n",
      "See the documentation here:\n",
      "http://pandas.pydata.org/pandas-docs/stable/user_guide/indexing.html#ix-indexer-is-deprecated\n",
      "  if __name__ == '__main__':\n"
     ]
    },
    {
     "data": {
      "image/png": "[encoded data removed]",
      "text/plain": [
       "<Figure size 432x288 with 1 Axes>"
      ]
     },
     "metadata": {
      "needs_background": "light"
     },
     "output_type": "display_data"
    },
    {
     "name": "stdout",
     "output_type": "stream",
     "text": [
      "pca.components_ (36, 45)\n",
      "pca_var_ratio (36,)\n",
      "     0     1\n",
      "0    1     (\n",
      "1   10   RBR\n",
      "2   11   POS\n",
      "3   12     #\n",
      "4   13   POS\n",
      "5   14   WP$\n",
      "6   15   JJS\n",
      "7   16   WP$\n",
      "8   17     :\n",
      "9   18    ''\n",
      "10  19    RP\n",
      "11   2     (\n",
      "12  20   JJR\n",
      "13  21   SYM\n",
      "14  22   WDT\n",
      "15  23   WDT\n",
      "16  24    CD\n",
      "17  25   VBZ\n",
      "18  26   WRB\n",
      "19  27    TO\n",
      "20  28     .\n",
      "21  29  PRP$\n",
      "22   3    ``\n",
      "23  30     ,\n",
      "24  31    RB\n",
      "25  32   VBG\n",
      "26  33   VBG\n",
      "27  34    CC\n",
      "28  35   VBD\n",
      "29  36    RB\n",
      "30   4  NNPS\n",
      "31   5   RBS\n",
      "32   6    FW\n",
      "33   7     $\n",
      "34   8    EX\n",
      "35   9   PDT\n",
      "Index(['rank', 'feature'], dtype='object')\n",
      "    rank feature\n",
      "0      1       (\n",
      "11     2       (\n",
      "22     3      ``\n",
      "30     4    NNPS\n",
      "31     5     RBS\n",
      "32     6      FW\n",
      "33     7       $\n",
      "34     8      EX\n",
      "35     9     PDT\n",
      "1     10     RBR\n",
      "2     11     POS\n",
      "3     12       #\n",
      "4     13     POS\n",
      "5     14     WP$\n",
      "6     15     JJS\n",
      "7     16     WP$\n",
      "8     17       :\n",
      "9     18      ''\n",
      "10    19      RP\n",
      "12    20     JJR\n",
      "13    21     SYM\n",
      "14    22     WDT\n",
      "15    23     WDT\n",
      "16    24      CD\n",
      "17    25     VBZ\n",
      "18    26     WRB\n",
      "19    27      TO\n",
      "20    28       .\n",
      "21    29    PRP$\n",
      "23    30       ,\n",
      "45\n",
      "36\n",
      "int64\n"
     ]
    },
    {
     "name": "stderr",
     "output_type": "stream",
     "text": [
      "D:\\anaconda3\\lib\\site-packages\\sklearn\\svm\\base.py:193: FutureWarning: The default value of gamma will change from 'auto' to 'scale' in version 0.22 to account better for unscaled features. Set gamma explicitly to 'auto' or 'scale' to avoid this warning.\n",
      "  \"avoid this warning.\", FutureWarning)\n"
     ]
    },
    {
     "name": "stdout",
     "output_type": "stream",
     "text": [
      "test_y_predict:\n",
      " [3 3 2 3 3]\n",
      "test_y:\n",
      " 5069     3\n",
      "17262    2\n",
      "4522     3\n",
      "10617    3\n",
      "9561     3\n",
      "Name: AGE, dtype: int64\n",
      "Accuracy of LR Classifier: 0.597295012679628\n",
      "              precision    recall  f1-score   support\n",
      "\n",
      "           1       0.00      0.00      0.00       422\n",
      "           2       0.62      0.21      0.31      2180\n",
      "           3       0.59      0.93      0.72      3313\n",
      "\n",
      "    accuracy                           0.60      5915\n",
      "   macro avg       0.41      0.38      0.35      5915\n",
      "weighted avg       0.56      0.60      0.52      5915\n",
      "\n",
      "[[   0   39  383]\n",
      " [   0  457 1723]\n",
      " [   0  237 3076]]\n"
     ]
    },
    {
     "name": "stderr",
     "output_type": "stream",
     "text": [
      "D:\\anaconda3\\lib\\site-packages\\sklearn\\metrics\\classification.py:1437: UndefinedMetricWarning: Precision and F-score are ill-defined and being set to 0.0 in labels with no predicted samples.\n",
      "  'precision', 'predicted', average, warn_for)\n"
     ]
    }
   ],
   "source": [
    "model2(\"pan13-author-profiling-training-corpus-2013-01-09/ti_social_pos_matrix.csv\",\"social_pos_result.csv\")"
   ]
  },
  {
   "cell_type": "code",
   "execution_count": 64,
   "metadata": {},
   "outputs": [
    {
     "name": "stdout",
     "output_type": "stream",
     "text": [
      "          )    #         ,        FW        IN       JJS       RBS      PRP$  \\\n",
      "0  0.280332  0.0  0.146619  0.000000  0.138137  0.188826  0.286825  0.149077   \n",
      "1  0.000000  0.0  0.145507  0.000000  0.137090  0.187394  0.284650  0.147946   \n",
      "2  0.000000  0.0  0.160119  0.000000  0.150857  0.206213  0.000000  0.162804   \n",
      "3  0.235395  0.0  0.123116  0.350057  0.115994  0.158557  0.000000  0.125180   \n",
      "4  0.000000  0.0  0.157862  0.000000  0.148730  0.000000  0.308820  0.160509   \n",
      "\n",
      "        VBN        ``  ...       JJR  WP$  PDT        EX        DT        TO  \\\n",
      "0  0.152673  0.000000  ...  0.184587  0.0  0.0  0.223018  0.139630  0.146457   \n",
      "1  0.151515  0.308790  ...  0.000000  0.0  0.0  0.221327  0.138571  0.145346   \n",
      "2  0.166731  0.000000  ...  0.201583  0.0  0.0  0.243554  0.152487  0.159943   \n",
      "3  0.128199  0.261272  ...  0.154997  0.0  0.0  0.187268  0.117247  0.122980   \n",
      "4  0.164380  0.335010  ...  0.198741  0.0  0.0  0.240120  0.150337  0.157688   \n",
      "\n",
      "    LS     NNPS        MD       WDT  \n",
      "0  0.0  0.00000  0.151246  0.182154  \n",
      "1  0.0  0.00000  0.150099  0.180772  \n",
      "2  0.0  0.00000  0.165173  0.198927  \n",
      "3  0.0  0.29248  0.127001  0.152954  \n",
      "4  0.0  0.00000  0.162844  0.196122  \n",
      "\n",
      "[5 rows x 45 columns]\n"
     ]
    },
    {
     "name": "stderr",
     "output_type": "stream",
     "text": [
      "D:\\anaconda3\\lib\\site-packages\\ipykernel_launcher.py:9: FutureWarning: \n",
      ".ix is deprecated. Please use\n",
      ".loc for label based indexing or\n",
      ".iloc for positional indexing\n",
      "\n",
      "See the documentation here:\n",
      "http://pandas.pydata.org/pandas-docs/stable/user_guide/indexing.html#ix-indexer-is-deprecated\n",
      "  if __name__ == '__main__':\n"
     ]
    },
    {
     "data": {
      "image/png": "[encoded data removed]",
      "text/plain": [
       "<Figure size 432x288 with 1 Axes>"
      ]
     },
     "metadata": {
      "needs_background": "light"
     },
     "output_type": "display_data"
    },
    {
     "name": "stdout",
     "output_type": "stream",
     "text": [
      "pca.components_ (36, 45)\n",
      "pca_var_ratio (36,)\n",
      "     0     1\n",
      "0    1     (\n",
      "1   10   RBR\n",
      "2   11   POS\n",
      "3   12     #\n",
      "4   13   POS\n",
      "5   14   WP$\n",
      "6   15   JJS\n",
      "7   16   WP$\n",
      "8   17     :\n",
      "9   18    ''\n",
      "10  19    RP\n",
      "11   2     (\n",
      "12  20   JJR\n",
      "13  21   SYM\n",
      "14  22   WDT\n",
      "15  23   WDT\n",
      "16  24    CD\n",
      "17  25   VBZ\n",
      "18  26   WRB\n",
      "19  27    TO\n",
      "20  28     .\n",
      "21  29  PRP$\n",
      "22   3    ``\n",
      "23  30     ,\n",
      "24  31    RB\n",
      "25  32   VBG\n",
      "26  33   VBG\n",
      "27  34    CC\n",
      "28  35   VBD\n",
      "29  36    RB\n",
      "30   4  NNPS\n",
      "31   5   RBS\n",
      "32   6    FW\n",
      "33   7     $\n",
      "34   8    EX\n",
      "35   9   PDT\n",
      "Index(['rank', 'feature'], dtype='object')\n",
      "    rank feature\n",
      "0      1       (\n",
      "11     2       (\n",
      "22     3      ``\n",
      "30     4    NNPS\n",
      "31     5     RBS\n",
      "32     6      FW\n",
      "33     7       $\n",
      "34     8      EX\n",
      "35     9     PDT\n",
      "1     10     RBR\n",
      "2     11     POS\n",
      "3     12       #\n",
      "4     13     POS\n",
      "5     14     WP$\n",
      "6     15     JJS\n",
      "7     16     WP$\n",
      "8     17       :\n",
      "9     18      ''\n",
      "10    19      RP\n",
      "12    20     JJR\n",
      "13    21     SYM\n",
      "14    22     WDT\n",
      "15    23     WDT\n",
      "16    24      CD\n",
      "17    25     VBZ\n",
      "18    26     WRB\n",
      "19    27      TO\n",
      "20    28       .\n",
      "21    29    PRP$\n",
      "23    30       ,\n",
      "45\n",
      "36\n",
      "int64\n",
      "train R^2:\n",
      " 0.0\n",
      "train MSE: 0.6393350239504085\n",
      "train RMSE: 0.7995842819555725\n",
      "test R^2:\n",
      " -4.672693211227319e-05\n",
      "test MSE: 0.6314454775993238\n",
      "test RMSE: 0.7946354369138868\n",
      "test_y_predict:\n",
      " [2 2 2 2 2]\n",
      "test_y:\n",
      " 5069     3\n",
      "17262    2\n",
      "4522     3\n",
      "10617    3\n",
      "9561     3\n",
      "Name: AGE, dtype: int64\n",
      "Accuracy of LR Classifier: -4.672693211227319e-05\n",
      "              precision    recall  f1-score   support\n",
      "\n",
      "           1       0.00      0.00      0.00       422\n",
      "           2       0.37      1.00      0.54      2180\n",
      "           3       0.00      0.00      0.00      3313\n",
      "\n",
      "    accuracy                           0.37      5915\n",
      "   macro avg       0.12      0.33      0.18      5915\n",
      "weighted avg       0.14      0.37      0.20      5915\n",
      "\n",
      "[[   0  422    0]\n",
      " [   0 2180    0]\n",
      " [   0 3313    0]]\n"
     ]
    },
    {
     "name": "stderr",
     "output_type": "stream",
     "text": [
      "D:\\anaconda3\\lib\\site-packages\\sklearn\\metrics\\classification.py:1437: UndefinedMetricWarning: Precision and F-score are ill-defined and being set to 0.0 in labels with no predicted samples.\n",
      "  'precision', 'predicted', average, warn_for)\n"
     ]
    }
   ],
   "source": [
    "model2(\"pan13-author-profiling-training-corpus-2013-01-09/ti_social_pos_matrix.csv\",\"social_pos_result1.csv\")"
   ]
  },
  {
   "cell_type": "code",
   "execution_count": 3,
   "metadata": {},
   "outputs": [
    {
     "name": "stdout",
     "output_type": "stream",
     "text": [
      "   wabasta  eighty-eighth  thrombocytopenia  2threads  200gb/s  rovio  \\\n",
      "0      0.0            0.0               0.0       0.0      0.0    0.0   \n",
      "1      0.0            0.0               0.0       0.0      0.0    0.0   \n",
      "2      0.0            0.0               0.0       0.0      0.0    0.0   \n",
      "3      0.0            0.0               0.0       0.0      0.0    0.0   \n",
      "4      0.0            0.0               0.0       0.0      0.0    0.0   \n",
      "\n",
      "   consejos  home-owner  résumé  affordabilitythe    ...      really…  fart  \\\n",
      "0       0.0         0.0     0.0               0.0    ...          0.0   0.0   \n",
      "1       0.0         0.0     0.0               0.0    ...          0.0   0.0   \n",
      "2       0.0         0.0     0.0               0.0    ...          0.0   0.0   \n",
      "3       0.0         0.0     0.0               0.0    ...          0.0   0.0   \n",
      "4       0.0         0.0     0.0               0.0    ...          0.0   0.0   \n",
      "\n",
      "   starcomms  funnily  plugging  workman  braking  bronze  sub-flooring  \\\n",
      "0        0.0      0.0       0.0      0.0      0.0     0.0           0.0   \n",
      "1        0.0      0.0       0.0      0.0      0.0     0.0           0.0   \n",
      "2        0.0      0.0       0.0      0.0      0.0     0.0           0.0   \n",
      "3        0.0      0.0       0.0      0.0      0.0     0.0           0.0   \n",
      "4        0.0      0.0       0.0      0.0      0.0     0.0           0.0   \n",
      "\n",
      "   fittingly  \n",
      "0        0.0  \n",
      "1        0.0  \n",
      "2        0.0  \n",
      "3        0.0  \n",
      "4        0.0  \n",
      "\n",
      "[5 rows x 137223 columns]\n"
     ]
    },
    {
     "name": "stderr",
     "output_type": "stream",
     "text": [
      "D:\\anaconda\\lib\\site-packages\\ipykernel_launcher.py:9: DeprecationWarning: \n",
      ".ix is deprecated. Please use\n",
      ".loc for label based indexing or\n",
      ".iloc for positional indexing\n",
      "\n",
      "See the documentation here:\n",
      "http://pandas.pydata.org/pandas-docs/stable/indexing.html#ix-indexer-is-deprecated\n",
      "  if __name__ == '__main__':\n"
     ]
    },
    {
     "data": {
      "image/png": "[encoded data removed]",
      "text/plain": [
       "<Figure size 432x288 with 1 Axes>"
      ]
     },
     "metadata": {
      "needs_background": "light"
     },
     "output_type": "display_data"
    },
    {
     "name": "stdout",
     "output_type": "stream",
     "text": [
      "pca.components_ (2135, 137223)\n",
      "pca_var_ratio (2135,)\n",
      "         0            1\n",
      "0        1            i\n",
      "1       10           my\n",
      "2      100     everyone\n",
      "3     1000       univer\n",
      "4     1001      wishers\n",
      "5     1002  complextion\n",
      "6     1003  caterpiller\n",
      "7     1004      fastest\n",
      "8     1005      looking\n",
      "9     1006      premium\n",
      "10    1007  complextion\n",
      "11    1008  complextion\n",
      "12    1009         atoz\n",
      "13     101         hope\n",
      "14    1010  hemorrhoids\n",
      "15    1011         vote\n",
      "16    1012         like\n",
      "17    1013        hiiii\n",
      "18    1014   definitely\n",
      "19    1015        hiiii\n",
      "20    1016   affordable\n",
      "21    1017       feelin\n",
      "22    1018       advise\n",
      "23    1019        thngs\n",
      "24     102            @\n",
      "25    1020     makboluo\n",
      "26    1021  caterpiller\n",
      "27    1022      wishers\n",
      "28    1023        bread\n",
      "29    1024      capable\n",
      "...    ...          ...\n",
      "2105   972        gbemu\n",
      "2106   973        hiiii\n",
      "2107   974       ticker\n",
      "2108   975  hemorrhoids\n",
      "2109   976          bet\n",
      "2110   977         suwe\n",
      "2111   978        extra\n",
      "2112   979   foundation\n",
      "2113    98          luv\n",
      "2114   980       ticker\n",
      "2115   981      fastest\n",
      "2116   982        bread\n",
      "2117   983  caterpiller\n",
      "2118   984        bread\n",
      "2119   985      embrace\n",
      "2120   986       univer\n",
      "2121   987  complextion\n",
      "2122   988      facebok\n",
      "2123   989         lets\n",
      "2124    99          men\n",
      "2125   990  hemorrhoids\n",
      "2126   991           us\n",
      "2127   992     tomorrow\n",
      "2128   993        bread\n",
      "2129   994  hemorrhoids\n",
      "2130   995    lawerence\n",
      "2131   996      fastest\n",
      "2132   997        hiiii\n",
      "2133   998  expectation\n",
      "2134   999  caterpiller\n",
      "\n",
      "[2135 rows x 2 columns]\n",
      "Index(['rank', 'feature'], dtype='object')\n",
      "      rank feature\n",
      "0        1       i\n",
      "1111     2       i\n",
      "1358     3       i\n",
      "1469     4    love\n",
      "1580     5       i\n",
      "1691     6      my\n",
      "1802     7      hi\n",
      "1913     8      hi\n",
      "2024     9      hi\n",
      "1       10      my\n",
      "112     11  travel\n",
      "223     12      my\n",
      "334     13      my\n",
      "445     14     god\n",
      "556     15       u\n",
      "667     16    love\n",
      "778     17     god\n",
      "889     18    life\n",
      "1000    19     hey\n",
      "1112    20      me\n",
      "1223    21       u\n",
      "1270    22    life\n",
      "1281    23    life\n",
      "1292    24     hey\n",
      "1303    25    life\n",
      "1314    26     god\n",
      "1325    27   happy\n",
      "1336    28    here\n",
      "1347    29  friend\n",
      "1359    30     hey\n",
      "137223\n",
      "2135\n",
      "int64\n",
      "train R^2:\n",
      " 0.0\n",
      "train MSE: 0.6330666666666667\n",
      "train RMSE: 0.795654866551237\n",
      "test R^2:\n",
      " -4.8989439713986727e-05\n",
      "test MSE: 0.6224\n",
      "test RMSE: 0.7889233169326407\n",
      "test_y_predict:\n",
      " [2 2 2 2 2]\n",
      "test_y:\n",
      " 53      2\n",
      "2391    2\n",
      "2310    3\n",
      "728     3\n",
      "850     1\n",
      "Name: age.1, dtype: int64\n",
      "Accuracy of LR Classifier: -4.8989439713986727e-05\n"
     ]
    },
    {
     "name": "stderr",
     "output_type": "stream",
     "text": [
      "D:\\anaconda\\lib\\site-packages\\sklearn\\metrics\\classification.py:1143: UndefinedMetricWarning: Precision and F-score are ill-defined and being set to 0.0 in labels with no predicted samples.\n",
      "  'precision', 'predicted', average, warn_for)\n"
     ]
    },
    {
     "name": "stdout",
     "output_type": "stream",
     "text": [
      "              precision    recall  f1-score   support\n",
      "\n",
      "           1       0.00      0.00      0.00        38\n",
      "           2       0.38      1.00      0.55       236\n",
      "           3       0.00      0.00      0.00       351\n",
      "\n",
      "   micro avg       0.38      0.38      0.38       625\n",
      "   macro avg       0.13      0.33      0.18       625\n",
      "weighted avg       0.14      0.38      0.21       625\n",
      "\n",
      "[[  0  38   0]\n",
      " [  0 236   0]\n",
      " [  0 351   0]]\n"
     ]
    }
   ],
   "source": [
    "model2(\"pan13-author-profiling-training-corpus-2013-01-09/ti_social_lemma_matrix.csv\",\"social_lemma_result.csv\")"
   ]
  },
  {
   "cell_type": "code",
   "execution_count": null,
   "metadata": {},
   "outputs": [],
   "source": []
  },
  {
   "cell_type": "code",
   "execution_count": 5,
   "metadata": {},
   "outputs": [
    {
     "name": "stderr",
     "output_type": "stream",
     "text": [
      "D:\\anaconda\\lib\\site-packages\\ipykernel_launcher.py:5: DeprecationWarning: \n",
      ".ix is deprecated. Please use\n",
      ".loc for label based indexing or\n",
      ".iloc for positional indexing\n",
      "\n",
      "See the documentation here:\n",
      "http://pandas.pydata.org/pandas-docs/stable/indexing.html#ix-indexer-is-deprecated\n",
      "  \"\"\"\n"
     ]
    },
    {
     "data": {
      "text/plain": [
       "<function matplotlib.pyplot.show(*args, **kw)>"
      ]
     },
     "execution_count": 5,
     "metadata": {},
     "output_type": "execute_result"
    },
    {
     "data": {
      "image/png": "[encoded data removed]",
      "text/plain": [
       "<Figure size 432x288 with 1 Axes>"
      ]
     },
     "metadata": {
      "needs_background": "light"
     },
     "output_type": "display_data"
    }
   ],
   "source": [
    "#lemma model 里最显著的4个特征变化趋势\n",
    "import matplotlib.pylab as pyl\n",
    "ti_lemma= pd.read_csv(\"pan13-author-profiling-training-corpus-2013-01-09/ti_social_lemma_matrix.csv\")\n",
    "x=ti_lemma['i']\n",
    "y=ti_lemma.ix[:,-1]\n",
    "pyl.plot(x,y)\n",
    "pyl.plot(x,y,'k')\n",
    "pyl.show"
   ]
  },
  {
   "cell_type": "code",
   "execution_count": 10,
   "metadata": {},
   "outputs": [
    {
     "data": {
      "text/plain": [
       "Text(0.5, 1.0, 'Lemma Feature: <i>')"
      ]
     },
     "execution_count": 10,
     "metadata": {},
     "output_type": "execute_result"
    },
    {
     "data": {
      "image/png": "[encoded data removed]",
      "text/plain": [
       "<Figure size 432x288 with 1 Axes>"
      ]
     },
     "metadata": {
      "needs_background": "light"
     },
     "output_type": "display_data"
    }
   ],
   "source": [
    "pyl.scatter(y,x,color='black')\n",
    "pyl.ylabel('TF-IDF Value')\n",
    "pyl.xlabel('Age')\n",
    "pyl.title('Lemma Feature: <i>')"
   ]
  },
  {
   "cell_type": "code",
   "execution_count": 11,
   "metadata": {},
   "outputs": [
    {
     "name": "stderr",
     "output_type": "stream",
     "text": [
      "D:\\anaconda\\lib\\site-packages\\ipykernel_launcher.py:2: DeprecationWarning: \n",
      ".ix is deprecated. Please use\n",
      ".loc for label based indexing or\n",
      ".iloc for positional indexing\n",
      "\n",
      "See the documentation here:\n",
      "http://pandas.pydata.org/pandas-docs/stable/indexing.html#ix-indexer-is-deprecated\n",
      "  \n"
     ]
    },
    {
     "data": {
      "text/plain": [
       "Text(0.5, 1.0, 'Lemma Feature: <love>')"
      ]
     },
     "execution_count": 11,
     "metadata": {},
     "output_type": "execute_result"
    },
    {
     "data": {
      "image/png": "[encoded data removed]",
      "text/plain": [
       "<Figure size 432x288 with 1 Axes>"
      ]
     },
     "metadata": {
      "needs_background": "light"
     },
     "output_type": "display_data"
    }
   ],
   "source": [
    "y1=ti_lemma['love']\n",
    "x1=ti_lemma.ix[:,-1]\n",
    "pyl.scatter(x1,y1,color='black')\n",
    "pyl.ylabel('TF-IDF Value')\n",
    "pyl.xlabel('Age')\n",
    "pyl.title('Lemma Feature: <love>')"
   ]
  },
  {
   "cell_type": "code",
   "execution_count": 21,
   "metadata": {},
   "outputs": [
    {
     "name": "stderr",
     "output_type": "stream",
     "text": [
      "D:\\anaconda\\lib\\site-packages\\ipykernel_launcher.py:2: DeprecationWarning: \n",
      ".ix is deprecated. Please use\n",
      ".loc for label based indexing or\n",
      ".iloc for positional indexing\n",
      "\n",
      "See the documentation here:\n",
      "http://pandas.pydata.org/pandas-docs/stable/indexing.html#ix-indexer-is-deprecated\n",
      "  \n"
     ]
    },
    {
     "data": {
      "text/plain": [
       "Text(0.5, 1.0, 'Lemma Feature: <here>')"
      ]
     },
     "execution_count": 21,
     "metadata": {},
     "output_type": "execute_result"
    },
    {
     "data": {
      "image/png": "[encoded data removed]",
      "text/plain": [
       "<Figure size 432x288 with 1 Axes>"
      ]
     },
     "metadata": {
      "needs_background": "light"
     },
     "output_type": "display_data"
    }
   ],
   "source": [
    "y2=ti_lemma['here']\n",
    "x2=ti_lemma.ix[:,-1]\n",
    "pyl.scatter(x2,y2,color='black')\n",
    "pyl.ylabel('TF-IDF Value')\n",
    "pyl.xlabel('Age')\n",
    "pyl.title('Lemma Feature: <here>')"
   ]
  },
  {
   "cell_type": "code",
   "execution_count": 23,
   "metadata": {},
   "outputs": [
    {
     "name": "stderr",
     "output_type": "stream",
     "text": [
      "D:\\anaconda\\lib\\site-packages\\ipykernel_launcher.py:3: DeprecationWarning: \n",
      ".ix is deprecated. Please use\n",
      ".loc for label based indexing or\n",
      ".iloc for positional indexing\n",
      "\n",
      "See the documentation here:\n",
      "http://pandas.pydata.org/pandas-docs/stable/indexing.html#ix-indexer-is-deprecated\n",
      "  This is separate from the ipykernel package so we can avoid doing imports until\n"
     ]
    },
    {
     "data": {
      "text/plain": [
       "Text(0.5, 1.0, 'POS Feature: <NNPS>')"
      ]
     },
     "execution_count": 23,
     "metadata": {},
     "output_type": "execute_result"
    },
    {
     "data": {
      "image/png": "[encoded data removed]",
      "text/plain": [
       "<Figure size 432x288 with 1 Axes>"
      ]
     },
     "metadata": {
      "needs_background": "light"
     },
     "output_type": "display_data"
    }
   ],
   "source": [
    "ti_pos= pd.read_csv(\"pan13-author-profiling-training-corpus-2013-01-09/ti_social_pos_matrix.csv\")\n",
    "y=ti_pos['NNPS']\n",
    "x=ti_pos.ix[:,-1]\n",
    "pyl.scatter(x,y,color='black')\n",
    "pyl.ylabel('TF-IDF Value')\n",
    "pyl.xlabel('Age')\n",
    "pyl.title('POS Feature: <NNPS>')"
   ]
  },
  {
   "cell_type": "code",
   "execution_count": 25,
   "metadata": {},
   "outputs": [
    {
     "name": "stderr",
     "output_type": "stream",
     "text": [
      "D:\\anaconda\\lib\\site-packages\\ipykernel_launcher.py:2: DeprecationWarning: \n",
      ".ix is deprecated. Please use\n",
      ".loc for label based indexing or\n",
      ".iloc for positional indexing\n",
      "\n",
      "See the documentation here:\n",
      "http://pandas.pydata.org/pandas-docs/stable/indexing.html#ix-indexer-is-deprecated\n",
      "  \n"
     ]
    },
    {
     "data": {
      "text/plain": [
       "Text(0.5, 1.0, 'POS Feature: <``>')"
      ]
     },
     "execution_count": 25,
     "metadata": {},
     "output_type": "execute_result"
    },
    {
     "data": {
      "image/png": "[encoded data removed]",
      "text/plain": [
       "<Figure size 432x288 with 1 Axes>"
      ]
     },
     "metadata": {
      "needs_background": "light"
     },
     "output_type": "display_data"
    }
   ],
   "source": [
    "y=ti_pos['``']\n",
    "x=ti_pos.ix[:,-1]\n",
    "pyl.scatter(x,y,color='black')\n",
    "pyl.ylabel('TF-IDF Value')\n",
    "pyl.xlabel('Age')\n",
    "pyl.title('POS Feature: <``>')"
   ]
  },
  {
   "cell_type": "code",
   "execution_count": 30,
   "metadata": {},
   "outputs": [
    {
     "name": "stderr",
     "output_type": "stream",
     "text": [
      "D:\\anaconda\\lib\\site-packages\\ipykernel_launcher.py:2: DeprecationWarning: \n",
      ".ix is deprecated. Please use\n",
      ".loc for label based indexing or\n",
      ".iloc for positional indexing\n",
      "\n",
      "See the documentation here:\n",
      "http://pandas.pydata.org/pandas-docs/stable/indexing.html#ix-indexer-is-deprecated\n",
      "  \n"
     ]
    },
    {
     "data": {
      "text/plain": [
       "Text(0.5, 1.0, 'POS Feature: <PDT>')"
      ]
     },
     "execution_count": 30,
     "metadata": {},
     "output_type": "execute_result"
    },
    {
     "data": {
      "image/png": "[encoded data removed]",
      "text/plain": [
       "<Figure size 432x288 with 1 Axes>"
      ]
     },
     "metadata": {
      "needs_background": "light"
     },
     "output_type": "display_data"
    }
   ],
   "source": [
    "y=ti_pos['PDT']\n",
    "x=ti_pos.ix[:,-1]\n",
    "pyl.scatter(x,y,color='black')\n",
    "pyl.ylabel('TF-IDF Value')\n",
    "pyl.xlabel('Age')\n",
    "pyl.title('POS Feature: <PDT>')"
   ]
  },
  {
   "cell_type": "code",
   "execution_count": 37,
   "metadata": {},
   "outputs": [
    {
     "name": "stderr",
     "output_type": "stream",
     "text": [
      "D:\\anaconda\\lib\\site-packages\\ipykernel_launcher.py:3: DeprecationWarning: \n",
      ".ix is deprecated. Please use\n",
      ".loc for label based indexing or\n",
      ".iloc for positional indexing\n",
      "\n",
      "See the documentation here:\n",
      "http://pandas.pydata.org/pandas-docs/stable/indexing.html#ix-indexer-is-deprecated\n",
      "  This is separate from the ipykernel package so we can avoid doing imports until\n"
     ]
    },
    {
     "data": {
      "text/plain": [
       "Text(0.5, 1.0, 'POS Feature: <my.PRP$>')"
      ]
     },
     "execution_count": 37,
     "metadata": {},
     "output_type": "execute_result"
    },
    {
     "data": {
      "image/png": "[encoded data removed]",
      "text/plain": [
       "<Figure size 432x288 with 1 Axes>"
      ]
     },
     "metadata": {
      "needs_background": "light"
     },
     "output_type": "display_data"
    }
   ],
   "source": [
    "ti_lexical= pd.read_csv(\"pan13-author-profiling-training-corpus-2013-01-09/ti_social_lexical_matrix.csv\")\n",
    "y=ti_lexical['my.PRP$']\n",
    "x=ti_lexical.ix[:,-1]\n",
    "pyl.scatter(x,y,color='black')\n",
    "pyl.ylabel('TF-IDF Value')\n",
    "pyl.xlabel('Age')\n",
    "pyl.title('POS Feature: <my.PRP$>')"
   ]
  },
  {
   "cell_type": "code",
   "execution_count": 47,
   "metadata": {},
   "outputs": [
    {
     "name": "stderr",
     "output_type": "stream",
     "text": [
      "D:\\anaconda\\lib\\site-packages\\ipykernel_launcher.py:2: DeprecationWarning: \n",
      ".ix is deprecated. Please use\n",
      ".loc for label based indexing or\n",
      ".iloc for positional indexing\n",
      "\n",
      "See the documentation here:\n",
      "http://pandas.pydata.org/pandas-docs/stable/indexing.html#ix-indexer-is-deprecated\n",
      "  \n"
     ]
    },
    {
     "data": {
      "text/plain": [
       "Text(0.5, 1.0, 'POS Feature: <need.NN>')"
      ]
     },
     "execution_count": 47,
     "metadata": {},
     "output_type": "execute_result"
    },
    {
     "data": {
      "image/png": "[encoded data removed]",
      "text/plain": [
       "<Figure size 432x288 with 1 Axes>"
      ]
     },
     "metadata": {
      "needs_background": "light"
     },
     "output_type": "display_data"
    }
   ],
   "source": [
    "y=ti_lexical['need.NN']\n",
    "x=ti_lexical.ix[:,-1]\n",
    "pyl.scatter(x,y,color='black')\n",
    "pyl.ylabel('TF-IDF Value')\n",
    "pyl.xlabel('Age')\n",
    "pyl.title('POS Feature: <need.NN>')"
   ]
  }
 ],
 "metadata": {
  "kernelspec": {
   "display_name": "Python 3",
   "language": "python",
   "name": "python3"
  },
  "language_info": {
   "codemirror_mode": {
    "name": "ipython",
    "version": 3
   },
   "file_extension": ".py",
   "mimetype": "text/x-python",
   "name": "python",
   "nbconvert_exporter": "python",
   "pygments_lexer": "ipython3",
   "version": "3.7.1"
  }
 },
 "nbformat": 4,
 "nbformat_minor": 2
}
